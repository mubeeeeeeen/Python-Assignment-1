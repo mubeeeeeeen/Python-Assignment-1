{
 "cells": [
  {
   "cell_type": "markdown",
   "metadata": {},
   "source": [
    "# Assignemnt No 3"
   ]
  },
  {
   "cell_type": "markdown",
   "metadata": {},
   "source": [
    "## 1. Make a calculator using Python with addition , subtraction , multiplication , division and power."
   ]
  },
  {
   "cell_type": "code",
   "execution_count": 6,
   "metadata": {},
   "outputs": [
    {
     "name": "stdout",
     "output_type": "stream",
     "text": [
      "Enter First Value: 2\n",
      "Enter First Value:  3\n",
      "Enter Operator: +\n",
      "2   +   3  =  5\n"
     ]
    }
   ],
   "source": [
    "val1 =int(input('Enter First Value: '))\n",
    "val2 =int(input('Enter First Value:  '))\n",
    "operator =input('Enter Operator: ')\n",
    "\n",
    "if operator == '+':\n",
    "    val = val1 + val2\n",
    "    print(val1,' ' ,operator,' ',val2,' = ',val)\n",
    "elif operator == '-':\n",
    "    val = val1 - val2\n",
    "    print(val1,' ' ,operator,' ',val2,' = ',val)\n",
    "elif operator == '*':\n",
    "    val = val1 * val2\n",
    "    print(val1,' ' ,operator,' ',val2,' = ',val)\n",
    "elif operator == '/':\n",
    "    val = val1 / val2\n",
    "    print(val1,' ' ,operator,' ',val2,' = ',val)\n",
    "else:\n",
    "    print(val1,' ' ,operator,' ',val2,' = ',val)"
   ]
  },
  {
   "cell_type": "markdown",
   "metadata": {},
   "source": [
    "## 2. Write a program to check if there is any numeric value in list using for loop"
   ]
  },
  {
   "cell_type": "code",
   "execution_count": 18,
   "metadata": {},
   "outputs": [
    {
     "name": "stdout",
     "output_type": "stream",
     "text": [
      "Numeric\n",
      "Not Numeric\n",
      "Numeric\n"
     ]
    }
   ],
   "source": [
    "l=[1,\"ali\",5]\n",
    "for i in l:\n",
    "    if isinstance(i, int):\n",
    "        \n",
    "        print(\"Numeric\")\n",
    "        \n",
    "    else:\n",
    "        print(\"Not Numeric\")"
   ]
  },
  {
   "cell_type": "markdown",
   "metadata": {},
   "source": [
    "## 3. Write a Python script to add a key to a dictionary"
   ]
  },
  {
   "cell_type": "code",
   "execution_count": 9,
   "metadata": {},
   "outputs": [
    {
     "name": "stdout",
     "output_type": "stream",
     "text": [
      "Muslim\n"
     ]
    }
   ],
   "source": [
    "person = {\n",
    "    'fname': 'Mubeen',\n",
    "    'lname': 'Butt',\n",
    "    'Adress': 'karachi'  \n",
    "}\n",
    "person['Religion'] = 'Muslim'\n",
    "print(person['Religion'])"
   ]
  },
  {
   "cell_type": "markdown",
   "metadata": {},
   "source": [
    "## 4. Write a Python program to sum all the numeric items in a dictionary"
   ]
  },
  {
   "cell_type": "code",
   "execution_count": 10,
   "metadata": {},
   "outputs": [
    {
     "name": "stdout",
     "output_type": "stream",
     "text": [
      "10 Answer\n"
     ]
    }
   ],
   "source": [
    "d = {11: 1, 22: 2, 33: 3, 44: 4} \n",
    "sum = 0\n",
    "for i in d:\n",
    "    sum+=d[i]\n",
    "print(sum, 'Answer')"
   ]
  },
  {
   "cell_type": "markdown",
   "metadata": {},
   "source": [
    "## 5. Write a program to identify duplicate values from list"
   ]
  },
  {
   "cell_type": "code",
   "execution_count": 56,
   "metadata": {},
   "outputs": [
    {
     "name": "stdout",
     "output_type": "stream",
     "text": [
      "None\n",
      "None\n",
      "None\n",
      "None\n",
      "Duplicated\n",
      "None\n",
      "None\n"
     ]
    }
   ],
   "source": [
    "dicts = {11: 1, \n",
    "         22: 2, \n",
    "         33: 3, \n",
    "         44: 4, \n",
    "         55: 4,\n",
    "         66: 6,\n",
    "         77: 7} \n",
    "repeated = [] \n",
    "for i in dicts:\n",
    "    for j in lists:\n",
    "        if dicts[i] == dicts[j] and dicts[i] not in repeated:\n",
    "            print(repeated.append(dicts[i]) )\n",
    "            break\n",
    "        elif dicts[i] != dicts[j] and dicts[i] in repeated:\n",
    "            print('Duplicated')\n",
    "            break"
   ]
  },
  {
   "cell_type": "markdown",
   "metadata": {},
   "source": [
    "## 6. Write a Python script to check if a given key already exists in a dictionary\n",
    "## By Given Key"
   ]
  },
  {
   "cell_type": "code",
   "execution_count": 8,
   "metadata": {},
   "outputs": [
    {
     "name": "stdout",
     "output_type": "stream",
     "text": [
      "Present\n",
      "Value = 2\n"
     ]
    }
   ],
   "source": [
    "dict = {'a': 1, 'b':2, 'c':3} \n",
    "key = 'b'\n",
    "\n",
    "if key in dict.keys(): \n",
    "    print(\"Present\") \n",
    "    print(\"Value =\", dict[key]) \n",
    "else: \n",
    "    print(\"Not present\") "
   ]
  },
  {
   "cell_type": "markdown",
   "metadata": {},
   "source": [
    "## By User Input Key"
   ]
  },
  {
   "cell_type": "code",
   "execution_count": 9,
   "metadata": {},
   "outputs": [
    {
     "name": "stdout",
     "output_type": "stream",
     "text": [
      "{'a': 1, 'b': 2, 'c': 3}\n",
      "Enter the key a\n",
      "Present\n",
      "Value = 1\n"
     ]
    }
   ],
   "source": [
    "dict = {'a': 1, 'b':2, 'c':3} \n",
    "print(dict)\n",
    "key = input(\"Enter the key \")\n",
    "\n",
    "if key=='a':\n",
    "    if key in dict.keys(): \n",
    "        print(\"Present\") \n",
    "        print(\"Value =\", dict[key]) \n",
    "    else: \n",
    "        print(\"Not present\") \n",
    "elif key=='b':\n",
    "    if key in dict.keys(): \n",
    "        print(\"Present\") \n",
    "        print(\"Value =\", dict[key]) \n",
    "    else: \n",
    "        print(\"Not present\") \n",
    "elif key=='c':\n",
    "    if key in dict.keys(): \n",
    "        print(\"Present \" ) \n",
    "        print(\"Value =\", dict[key]) \n",
    "    else: \n",
    "        print(\"Not present\") \n",
    "else:\n",
    "    print(\"Wrong Key\")\n"
   ]
  },
  {
   "cell_type": "code",
   "execution_count": null,
   "metadata": {},
   "outputs": [],
   "source": []
  },
  {
   "cell_type": "code",
   "execution_count": null,
   "metadata": {},
   "outputs": [],
   "source": []
  }
 ],
 "metadata": {
  "kernelspec": {
   "display_name": "Python 3",
   "language": "python",
   "name": "python3"
  },
  "language_info": {
   "codemirror_mode": {
    "name": "ipython",
    "version": 3
   },
   "file_extension": ".py",
   "mimetype": "text/x-python",
   "name": "python",
   "nbconvert_exporter": "python",
   "pygments_lexer": "ipython3",
   "version": "3.7.4"
  }
 },
 "nbformat": 4,
 "nbformat_minor": 2
}

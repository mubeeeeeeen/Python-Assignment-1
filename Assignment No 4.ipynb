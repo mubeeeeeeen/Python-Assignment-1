{
 "cells": [
  {
   "cell_type": "markdown",
   "metadata": {},
   "source": [
    "# Assignment No 4"
   ]
  },
  {
   "cell_type": "markdown",
   "metadata": {},
   "source": [
    "### Question 1:    Use a dictionary to store information about a person you know. Store their first name, last name, age, and the city in which they live. You should have keys such as first_name, last_name, age, and city. Print each piece of information stored in your dictionary. Add a new key value pair about qualification then update the qualification value to high academic level then delete it."
   ]
  },
  {
   "cell_type": "code",
   "execution_count": 5,
   "metadata": {},
   "outputs": [
    {
     "name": "stdout",
     "output_type": "stream",
     "text": [
      "Mubeen\n",
      "Butt\n",
      "22\n",
      "Karachi, Pakistan\n",
      "{'first_name': 'Mubeen', 'last_name': 'Butt', 'age': 22, 'city': 'Karachi, Pakistan', 'qualification': ''}\n",
      "{'first_name': 'Mubeen', 'last_name': 'Butt', 'age': 22, 'city': 'Karachi, Pakistan', 'qualification': 'Higher Academic Level'}\n",
      "{'first_name': 'Mubeen', 'last_name': 'Butt', 'age': 22, 'city': 'Karachi, Pakistan'}\n"
     ]
    }
   ],
   "source": [
    "detail = {\n",
    "    'first_name' : 'Mubeen',\n",
    "    'last_name' : 'Butt',\n",
    "    'age' : 22,\n",
    "    'city' : 'Karachi, Pakistan'\n",
    "}\n",
    "print(detail['first_name'] + '\\n' + detail['last_name'] + '\\n' + str(detail ['age']) + '\\n' + detail['city'])\n",
    "detail['qualification'] = ''\n",
    "print(detail)\n",
    "detail['qualification'] = 'Higher Academic Level'\n",
    "print(detail)\n",
    "del(detail['qualification'])\n",
    "print(detail)"
   ]
  },
  {
   "cell_type": "markdown",
   "metadata": {},
   "source": [
    "### Question 2: Make a dictionary called cities. Use the names of three cities as keys in your dictionary. Create a dictionary of information about each city and include the country that the city is in, its approximate population, and one fact about that city. The keys for each city’s dictionary should be something like country, population, and fact. Print the name of each city and all of the information you have stored about it."
   ]
  },
  {
   "cell_type": "code",
   "execution_count": 2,
   "metadata": {},
   "outputs": [
    {
     "name": "stdout",
     "output_type": "stream",
     "text": [
      "KARACHI\n",
      "Country : Pakistan\n",
      "Population : 14.91M\n",
      "Interesting fact : 6th largest city of the world\n",
      "\n",
      "\n",
      "MARRAKECH\n",
      "Country : Morocco\n",
      "Population : 0.92M\n",
      "Interesting fact : Marrakech is known as the red city\n",
      "\n",
      "\n",
      "NEWYORK\n",
      "Country : United States of America\n",
      "Population : 8.623M\n",
      "Interesting fact : Famous for Niagra Falls\n",
      "\n",
      "\n"
     ]
    }
   ],
   "source": [
    "cities = {\n",
    "    'Karachi' : {\n",
    "        'country' : 'Pakistan',\n",
    "        'population' : 14.91,\n",
    "        'fact' : '6th largest city of the world'\n",
    "    },\n",
    "    'Marrakech' : {\n",
    "        'country' : 'Morocco',\n",
    "        'population' : 0.92,\n",
    "        'fact' : 'Marrakech is known as the red city'\n",
    "    },\n",
    "    'NewYork' : {\n",
    "        'country': 'United States of America',\n",
    "        'population' : 8.623,\n",
    "        'fact' : 'Famous for Niagra Falls'\n",
    "    }\n",
    "}\n",
    "for each in cities:\n",
    "    print(each.upper())\n",
    "    print('Country : ' + cities[each]['country'])\n",
    "    print('Population : ' + str(cities[each]['population']) + 'M')\n",
    "    print('Interesting fact : ' + cities[each]['fact'])\n",
    "    print('\\n')"
   ]
  },
  {
   "cell_type": "markdown",
   "metadata": {},
   "source": [
    "### Question 3: A movie theater charges different ticket prices depending on a person’s age. If a person is under the age of 3, the ticket is free; if they are between 3 and 12, the ticket is 10 and if they are over age 12, the ticket is  15. Write a loop in which you ask users their age, and then tell them the cost of their movie ticket."
   ]
  },
  {
   "cell_type": "code",
   "execution_count": 1,
   "metadata": {},
   "outputs": [
    {
     "name": "stdout",
     "output_type": "stream",
     "text": [
      "Enter age\n",
      "12\n",
      "10$\n",
      "continue?n\n",
      "END\n"
     ]
    }
   ],
   "source": [
    "price = {\n",
    "    'toddler' : 'free',\n",
    "    'child' : '10$',\n",
    "    'adult' : '15$'\n",
    "}\n",
    "cont = True\n",
    "while(cont == True):\n",
    "    age = int(input('Enter age\\n'))\n",
    "    if age < 3:\n",
    "        chk = 'toddler'\n",
    "    elif age >= 3 and age <= 12:\n",
    "        chk = 'child'\n",
    "    elif age > 12:\n",
    "        chk = 'adult'\n",
    "    print(price[chk])\n",
    "    cont = True if input('continue?').lower() == 'y' else False\n",
    "print('END')"
   ]
  },
  {
   "cell_type": "markdown",
   "metadata": {},
   "source": [
    "### Question 4: Write a function called favorite_book() that accepts one parameter, title. The function should print a message, such as One of my favorite books is Alice in Wonderland. Call the function, making sure to include a book title as an argument in the function call."
   ]
  },
  {
   "cell_type": "code",
   "execution_count": 5,
   "metadata": {},
   "outputs": [
    {
     "name": "stdout",
     "output_type": "stream",
     "text": [
      "My favorite book is Harry Pottor\n"
     ]
    }
   ],
   "source": [
    "def favorite_book(book):\n",
    "    print('My favorite book is ' + str(book))\n",
    "    \n",
    "favorite_book('Harry Pottor')"
   ]
  },
  {
   "cell_type": "markdown",
   "metadata": {},
   "source": [
    "### Question 5: Guess the number game"
   ]
  },
  {
   "cell_type": "markdown",
   "metadata": {},
   "source": [
    "### Write a program which randomly generate a number between 1 to 30 and ask the user in input field to guess the correct number. Give three chances to user guess the number and also give hint to user if hidden number is greater or smaller than the number he given to input field. "
   ]
  },
  {
   "cell_type": "code",
   "execution_count": 3,
   "metadata": {},
   "outputs": [
    {
     "name": "stdout",
     "output_type": "stream",
     "text": [
      "Guess The nNumber\n",
      "30\n",
      "Hint: This one is too large\n",
      "Guess The nNumber\n",
      "25\n",
      "Hint: This one is too small\n",
      "Guess The nNumber\n",
      "26\n",
      "Hint: This one is too small\n",
      "Try Again\n"
     ]
    }
   ],
   "source": [
    "import random\n",
    "rand = random.randint(1, 30)\n",
    "count = 0\n",
    "while(count != 3):\n",
    "    num = int(input('Guess The nNumber\\n'))\n",
    "    if rand == num:\n",
    "        print('Correct Number!')\n",
    "        break\n",
    "    else:\n",
    "        cond = print('Hint: This one is too small') if num < rand else print('Hint: This one is too large')\n",
    "        count += 1\n",
    "        if count == 3:\n",
    "            print('Try Again')\n"
   ]
  }
 ],
 "metadata": {
  "kernelspec": {
   "display_name": "Python 3",
   "language": "python",
   "name": "python3"
  },
  "language_info": {
   "codemirror_mode": {
    "name": "ipython",
    "version": 3
   },
   "file_extension": ".py",
   "mimetype": "text/x-python",
   "name": "python",
   "nbconvert_exporter": "python",
   "pygments_lexer": "ipython3",
   "version": "3.7.4"
  }
 },
 "nbformat": 4,
 "nbformat_minor": 2
}
